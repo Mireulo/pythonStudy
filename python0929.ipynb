{
 "cells": [
  {
   "cell_type": "code",
   "execution_count": 1,
   "metadata": {},
   "outputs": [],
   "source": [
    "import requests"
   ]
  },
  {
   "cell_type": "code",
   "execution_count": 33,
   "metadata": {},
   "outputs": [],
   "source": [
    "from pprint import pprint\n",
    "import json"
   ]
  },
  {
   "cell_type": "code",
   "execution_count": 68,
   "metadata": {},
   "outputs": [],
   "source": [
    "response = requests.post(\n",
    "    'https://auction.realestate.daum.net/ajax/main_list.php',\n",
    "    params={\n",
    "        'addr1':'서울',\n",
    "        'result':'99',\n",
    "        'yongdo':'99',\n",
    "        'yongdo_detail':'99',\n",
    "        'sort':'130'\n",
    "    },\n",
    "    data={\n",
    "        'total': '1304',\n",
    "        'block': '2',\n",
    "        'start': '',\n",
    "        'next': '',\n",
    "        'addr1': '서울',\n",
    "        'addr2': '',\n",
    "        'addr3': '',\n",
    "        'bubcd': '',\n",
    "        'kye': '',\n",
    "        'local_num': '',\n",
    "        'var_period': '',\n",
    "        'result': '99',\n",
    "        'var_kind': '',\n",
    "        'yuchalcnt': '',\n",
    "        'gamprice': '',\n",
    "        'lowprice': '',\n",
    "        'bdarea': '',\n",
    "        'daejiarea': '',\n",
    "        'ipchaltype': '',\n",
    "        'bdname': '',\n",
    "        'special': '',\n",
    "        'addshow': '',\n",
    "        'sort': '13D',\n",
    "        'subMenuIdx': '1'\n",
    "    },\n",
    "    headers={\n",
    "        'referer':'https://auction.realestate.daum.net/v15/'\n",
    "    }\n",
    ")"
   ]
  },
  {
   "cell_type": "code",
   "execution_count": 6,
   "metadata": {},
   "outputs": [],
   "source": [
    "with open('D:/선배님과 함께하는 즐거운 코딩생활/test2.html', 'w', encoding='utf-8') as f:\n",
    "    f.write(response.text)"
   ]
  },
  {
   "cell_type": "code",
   "execution_count": 69,
   "metadata": {},
   "outputs": [],
   "source": [
    "from bs4 import BeautifulSoup as bs"
   ]
  },
  {
   "cell_type": "code",
   "execution_count": 70,
   "metadata": {},
   "outputs": [],
   "source": [
    "soup = bs(response.text, 'html.parser')"
   ]
  },
  {
   "cell_type": "code",
   "execution_count": 71,
   "metadata": {},
   "outputs": [],
   "source": [
    "trs = soup.select('#frm_myreg > table > tbody > tr')"
   ]
  },
  {
   "cell_type": "code",
   "execution_count": 72,
   "metadata": {},
   "outputs": [
    {
     "name": "stdout",
     "output_type": "stream",
     "text": [
      "12\n"
     ]
    }
   ],
   "source": [
    "print(len(trs))"
   ]
  },
  {
   "cell_type": "code",
   "execution_count": 73,
   "metadata": {},
   "outputs": [],
   "source": [
    "datas=[]"
   ]
  },
  {
   "cell_type": "code",
   "execution_count": 74,
   "metadata": {},
   "outputs": [],
   "source": [
    "for tr in trs:\n",
    "    data = {\n",
    "        '사건번호:':tr.select_one('td:nth-child(1) a').get_text(),\n",
    "        '물건용도:':tr.select_one('td:nth-child(2) > div:nth-child(2) > a > p:nth-child(1)').get_text(),\n",
    "        '소재지:':tr.select_one('td:nth-child(2) > div:nth-child(2) > a > p:nth-child(2)').get_text(),\n",
    "        '면적:':tr.select_one('td:nth-child(2) > div:nth-child(2) > p:nth-child(2)').get_text(),\n",
    "        '감정가:':tr.select_one('td:nth-child(3) div:nth-child(1) p:nth-child(1)').get_text(),\n",
    "    }\n",
    "    datas.append(data)"
   ]
  },
  {
   "cell_type": "code",
   "execution_count": 75,
   "metadata": {},
   "outputs": [
    {
     "data": {
      "text/plain": [
       "[{'사건번호:': '2021-102837',\n",
       "  '물건용도:': '[아파트]',\n",
       "  '소재지:': '서울 관악구 봉천동  645-87번지  3동 3층  305호',\n",
       "  '면적:': '토지 31.7㎡ / 건물 47.61㎡',\n",
       "  '감정가:': '303,000,000'},\n",
       " {'사건번호:': '2021-105591',\n",
       "  '물건용도:': '[아파트]',\n",
       "  '소재지:': '서울 강남구 삼성동  87번지  아이파크삼성동 사우스윙동 ...',\n",
       "  '면적:': '토지 66.26㎡ / 건물 156.86...',\n",
       "  '감정가:': '5,170,000,000'},\n",
       " {'사건번호:': '2021-106402',\n",
       "  '물건용도:': '[아파트]',\n",
       "  '소재지:': '서울 강남구 삼성동  87번지  아이파크삼성동 사우스윙동 ...',\n",
       "  '면적:': '토지 61.3㎡ / 건물 145.05...',\n",
       "  '감정가:': '5,000,000,000'},\n",
       " {'사건번호:': '2021-107350',\n",
       "  '물건용도:': '[아파트]',\n",
       "  '소재지:': '서울 노원구 월계동  320-11번지  월계3단지사슴아파트 30...',\n",
       "  '면적:': '토지 26㎡ / 건물 39.6㎡',\n",
       "  '감정가:': '520,000,000'},\n",
       " {'사건번호:': '2021-107788',\n",
       "  '물건용도:': '[주상복합(주거)]',\n",
       "  '소재지:': '서울 중구 인현동2가  192-30번지  10층  1010호',\n",
       "  '면적:': '토지 1.31㎡ / 건물 16.07㎡',\n",
       "  '감정가:': '109,000,000'},\n",
       " {'사건번호:': '2021-108729',\n",
       "  '물건용도:': '[아파트]',\n",
       "  '소재지:': '서울 강남구 청담동  62-6번지  청담디에브스아파트 8층  ...',\n",
       "  '면적:': '토지 20.1㎡ / 건물 38.01㎡',\n",
       "  '감정가:': '646,000,000'},\n",
       " {'사건번호:': '2021-108896',\n",
       "  '물건용도:': '[아파트]',\n",
       "  '소재지:': '서울 성북구 하월곡동  224번지  샹그레빌아파트 102동 ...',\n",
       "  '면적:': '토지 30.6㎡ / 건물 79.25㎡',\n",
       "  '감정가:': '803,000,000'},\n",
       " {'사건번호:': '2021-115143',\n",
       "  '물건용도:': '[아파트]',\n",
       "  '소재지:': '서울 양천구 신정동  329번지  목동신시가지아파트 1423동...',\n",
       "  '면적:': '토지 57.3㎡ / 건물 71.4㎡',\n",
       "  '감정가:': '1,720,000,000'},\n",
       " {'사건번호:': '2022-778',\n",
       "  '물건용도:': '[아파트]',\n",
       "  '소재지:': '서울 관악구 신림동  1714번지  삼성산주공아파트 302동 1...',\n",
       "  '면적:': '토지 22.43㎡ / 건물 56.66...',\n",
       "  '감정가:': '437,500,000'},\n",
       " {'사건번호:': '2022-50532',\n",
       "  '물건용도:': '[아파트]',\n",
       "  '소재지:': '서울 서대문구 홍제동  453번지  무악청구아파트 107동 ...',\n",
       "  '면적:': '토지 44.3㎡ / 건물 84.78㎡',\n",
       "  '감정가:': '1,100,000,000'},\n",
       " {'사건번호:': '2022-51504',\n",
       "  '물건용도:': '[아파트]',\n",
       "  '소재지:': '서울 은평구 응암동  766번지  백련산파크자이 102동 16층...',\n",
       "  '면적:': '토지 32.1㎡ / 건물 59.91㎡',\n",
       "  '감정가:': '972,000,000'},\n",
       " {'사건번호:': '2022-51542',\n",
       "  '물건용도:': '[아파트]',\n",
       "  '소재지:': '서울 서대문구 북가좌동  458번지  디엠씨아이파크아파트 ...',\n",
       "  '면적:': '토지 34.2㎡ / 건물 59.96㎡',\n",
       "  '감정가:': '1,000,000,000'}]"
      ]
     },
     "execution_count": 75,
     "metadata": {},
     "output_type": "execute_result"
    }
   ],
   "source": [
    "datas"
   ]
  },
  {
   "cell_type": "code",
   "execution_count": 77,
   "metadata": {},
   "outputs": [],
   "source": [
    "with open('./code_1.json', 'w', encoding='utf-8') as f:\n",
    "    f.write(json.dumps(datas, ensure_ascii=False))"
   ]
  }
 ],
 "metadata": {
  "interpreter": {
   "hash": "d9dc88e4aa9c05378aa5e64bcd0e11e2b1e5984d8afad505fdf0864ca3363bab"
  },
  "kernelspec": {
   "display_name": "Python 3.7.2 32-bit",
   "language": "python",
   "name": "python3"
  },
  "language_info": {
   "codemirror_mode": {
    "name": "ipython",
    "version": 3
   },
   "file_extension": ".py",
   "mimetype": "text/x-python",
   "name": "python",
   "nbconvert_exporter": "python",
   "pygments_lexer": "ipython3",
   "version": "3.7.2"
  },
  "orig_nbformat": 4
 },
 "nbformat": 4,
 "nbformat_minor": 2
}
