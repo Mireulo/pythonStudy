{
  "nbformat": 4,
  "nbformat_minor": 0,
  "metadata": {
    "colab": {
      "name": "1.4.2 클래스.ipynb",
      "provenance": [],
      "collapsed_sections": []
    },
    "kernelspec": {
      "name": "python3",
      "display_name": "Python 3"
    },
    "language_info": {
      "name": "python"
    }
  },
  "cells": [
    {
      "cell_type": "markdown",
      "source": [
        "# **클래스**\n",
        "개발자가 직접 클래스를 정의하면 독자적인 자료형을 만들 수 있다. 또한 클래스에는 그 클래스만의 전용 함수(메소드)와 속성을 정의 할 수도 있다."
      ],
      "metadata": {
        "id": "TOdB-b-IRAwF"
      }
    },
    {
      "cell_type": "code",
      "execution_count": null,
      "metadata": {
        "id": "GxBZ6EFHQdg7"
      },
      "outputs": [],
      "source": [
        "# 클래스 구조\n",
        "\n",
        "# class 클래스 이름:\n",
        "#   def __init__(self, 인수, ...):      # 생성자\n",
        "#     ...\n",
        "#   def 메소드 이름 1(self, 인수, ...): # 메소드 1\n",
        "#     ...\n",
        "#   def 메소드 이름 2(self, 인수, ...): # 메소드 2\n",
        "#     ..."
      ]
    },
    {
      "cell_type": "markdown",
      "source": [
        "클래스 정의에는 `__init__`라는 특별한 메소드가 있는데, 클래스를 초기화하는 방법을 정의한다. 이 초기화용 메소드를   '생성자'라고 하며, 클래스의 인스턴스가 만들어질 때 한번만 불린다. 또, 파이썬에서는 메소드의 첫 번째 인수로 자신을 나타내는 self를 명시적으로 쓰는 것이 특징이다."
      ],
      "metadata": {
        "id": "DBznpg4JS_ht"
      }
    },
    {
      "cell_type": "code",
      "source": [
        "class Man:\n",
        "  def __init__(self, name):\n",
        "    self.name = name\n",
        "    print('Initialized!')\n",
        "  \n",
        "  def hello(self):\n",
        "    print('Hello '+self.name+'!')\n",
        "\n",
        "  def goodbye(self):\n",
        "    print('Good-bye '+self.name+'!')\n",
        "  \n",
        "m = Man('David')\n",
        "m.hello()\n",
        "m.goodbye()"
      ],
      "metadata": {
        "colab": {
          "base_uri": "https://localhost:8080/"
        },
        "id": "MRTy_gtYTi_u",
        "outputId": "4b1685be-cad1-47fe-cc9e-30e389a558b0"
      },
      "execution_count": null,
      "outputs": [
        {
          "output_type": "stream",
          "name": "stdout",
          "text": [
            "Initialized!\n",
            "Hello David!\n",
            "Good-bye David!\n"
          ]
        }
      ]
    },
    {
      "cell_type": "markdown",
      "source": [
        "m이라는 인스턴스(객체) 생성\n",
        "\n",
        "Man의 초기화 메소드(생성자)는 name이라는 인수를 받고, 그 인수로 인스턴스 변수인 self.name을 초기화한다. 인스턴스 변수는 인스턴스별로 저장되는 변수다. 파이썬에서는 self.name처럼 self 다음에 속성 이름을 써서 인스턴스 변수를 작성하거나 접근할 수 있다."
      ],
      "metadata": {
        "id": "qaDMX8lyUuFm"
      }
    },
    {
      "cell_type": "code",
      "source": [
        ""
      ],
      "metadata": {
        "id": "7GBQPsvzWx0k"
      },
      "execution_count": null,
      "outputs": []
    }
  ]
}