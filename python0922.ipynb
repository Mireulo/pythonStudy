{
 "cells": [
  {
   "cell_type": "code",
   "execution_count": 4,
   "metadata": {},
   "outputs": [],
   "source": [
    "import requests\n",
    "from bs4 import BeautifulSoup"
   ]
  },
  {
   "cell_type": "code",
   "execution_count": 5,
   "metadata": {},
   "outputs": [],
   "source": [
    "title = input('제목을 입력하세요: ')\n",
    "content = input('내용을 입력하세요: ')"
   ]
  },
  {
   "cell_type": "code",
   "execution_count": 9,
   "metadata": {},
   "outputs": [],
   "source": [
    "response1 = requests.post(\n",
    "    'https://controlc.com/index.php',\n",
    "    params={\n",
    "        'act':'submit'\n",
    "    },\n",
    "    data={\n",
    "        'subdomain':'',\n",
    "        'antispam':1,\n",
    "        'website':'',\n",
    "        'paste_title':'tfthf',\n",
    "        'input_text':'bfchcj',\n",
    "        'timestamp':'1503c4774cf81847fce13669ff49bc90',\n",
    "        'paste_password':'',\n",
    "        'code':''\n",
    "    },\n",
    "    headers={\n",
    "        'referer':'https://controlc.com/'\n",
    "    }\n",
    ")"
   ]
  },
  {
   "cell_type": "code",
   "execution_count": 11,
   "metadata": {},
   "outputs": [],
   "source": [
    "soup1 = BeautifulSoup(response1.text, 'html.parser')\n",
    "url_element = soup1.select_one('#wrapper > div:nth-child(3) > div:nth-child(1) > div:nth-child(2) > form > input')"
   ]
  },
  {
   "cell_type": "code",
   "execution_count": 12,
   "metadata": {},
   "outputs": [],
   "source": [
    "url = url_element.attrs['value']"
   ]
  },
  {
   "cell_type": "code",
   "execution_count": 13,
   "metadata": {},
   "outputs": [
    {
     "name": "stdout",
     "output_type": "stream",
     "text": [
      "생성된 URL은  https://controlc.com/1cf9a413 입니다\n"
     ]
    }
   ],
   "source": [
    "print('생성된 URL은 ', url, '입니다')"
   ]
  },
  {
   "cell_type": "code",
   "execution_count": 14,
   "metadata": {},
   "outputs": [],
   "source": [
    "response2 = requests.get(url)"
   ]
  },
  {
   "cell_type": "code",
   "execution_count": 15,
   "metadata": {},
   "outputs": [],
   "source": [
    "soup2 = BeautifulSoup(response2.text, 'html.parser')\n",
    "title_element = soup2.select_one('#pastecontainer > div:nth-child(1) > div:nth-child(2)')\n",
    "title = title_element.get_text()"
   ]
  },
  {
   "cell_type": "code",
   "execution_count": 16,
   "metadata": {},
   "outputs": [
    {
     "name": "stdout",
     "output_type": "stream",
     "text": [
      "제목은  tfthf 입니다.\n"
     ]
    }
   ],
   "source": [
    "print('제목은 ',title,'입니다.')"
   ]
  },
  {
   "cell_type": "code",
   "execution_count": 23,
   "metadata": {},
   "outputs": [],
   "source": [
    "response = requests.post(\n",
    "    'https://auction.realestate.daum.net/ajax/main_list.php',\n",
    "    params={\n",
    "        'addr1':'서울',\n",
    "        'result':'99',\n",
    "        'yongdo':'99',\n",
    "        'yongdo_detail':'99',\n",
    "        'sort':'13D'\n",
    "    },\n",
    "    data={\n",
    "        'total':1293,\n",
    "        'block':2,\n",
    "        'start':'',\n",
    "        'next':'',\n",
    "        'addr1':'서울',\n",
    "        'addr2':'',\n",
    "        'addr3':'',\n",
    "        'bubcd':'',\n",
    "        'kye':'',\n",
    "        'local_num':'',\n",
    "        'var_period':'',\n",
    "        'result':99,\n",
    "        'var_kind':'',\n",
    "        'yuchalcnt':'',\n",
    "        'gamprice':'',\n",
    "        'lowprice':'',\n",
    "        'bdarea':'',\n",
    "        'daejiarea':'',\n",
    "        'ipchaltype':'',\n",
    "        'bdname':'',\n",
    "        'special':'',\n",
    "        'addshow':'',\n",
    "        'sort':'13D',\n",
    "        'subMenuIdx':'1'\n",
    "    },\n",
    "    headers={\n",
    "        'referer':'https://auction.realestate.daum.net/v15/'\n",
    "    }\n",
    ")"
   ]
  },
  {
   "cell_type": "code",
   "execution_count": 25,
   "metadata": {},
   "outputs": [],
   "source": [
    "soup = BeautifulSoup(response.text, 'html.parser')"
   ]
  },
  {
   "cell_type": "code",
   "execution_count": 26,
   "metadata": {},
   "outputs": [],
   "source": [
    "trs = soup.select('#frm_myreg > table > tbody > tr')"
   ]
  },
  {
   "cell_type": "code",
   "execution_count": 27,
   "metadata": {},
   "outputs": [
    {
     "name": "stdout",
     "output_type": "stream",
     "text": [
      "12\n"
     ]
    }
   ],
   "source": [
    "print(len(trs))"
   ]
  },
  {
   "cell_type": "code",
   "execution_count": 37,
   "metadata": {},
   "outputs": [
    {
     "name": "stdout",
     "output_type": "stream",
     "text": [
      "2021-110165\n",
      "2022-247\n",
      "2022-537\n",
      "2022-1042\n",
      "2021-2562\n",
      "2021-4087\n",
      "2021-101346\n",
      "2021-105577\n",
      "2021-106081\n",
      "2021-106853\n",
      "2021-106999\n",
      "2021-108261\n"
     ]
    }
   ],
   "source": [
    "for tr in trs:\n",
    "    print(tr.select_one('td:nth-child(1) a').text)"
   ]
  },
  {
   "cell_type": "code",
   "execution_count": 24,
   "metadata": {},
   "outputs": [],
   "source": [
    "with open('D:/선배님과 함께하는 즐거운 코딩생활/test2.html', 'w', encoding='utf-8') as f:\n",
    "    f.write(response.text)"
   ]
  }
 ],
 "metadata": {
  "interpreter": {
   "hash": "d9dc88e4aa9c05378aa5e64bcd0e11e2b1e5984d8afad505fdf0864ca3363bab"
  },
  "kernelspec": {
   "display_name": "Python 3.7.2 32-bit",
   "language": "python",
   "name": "python3"
  },
  "language_info": {
   "codemirror_mode": {
    "name": "ipython",
    "version": 3
   },
   "file_extension": ".py",
   "mimetype": "text/x-python",
   "name": "python",
   "nbconvert_exporter": "python",
   "pygments_lexer": "ipython3",
   "version": "3.7.2"
  },
  "orig_nbformat": 4
 },
 "nbformat": 4,
 "nbformat_minor": 2
}
