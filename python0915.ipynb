{
 "cells": [
  {
   "cell_type": "code",
   "execution_count": 1,
   "metadata": {},
   "outputs": [],
   "source": [
    "import requests"
   ]
  },
  {
   "cell_type": "code",
   "execution_count": 4,
   "metadata": {},
   "outputs": [],
   "source": [
    "title = \"title\"\n",
    "context = \"context\""
   ]
  },
  {
   "cell_type": "code",
   "execution_count": 5,
   "metadata": {},
   "outputs": [],
   "source": [
    "response = requests.post(\n",
    "    'https://controlc.com/index.php',\n",
    "    params = {\n",
    "        'act' : 'submit'\n",
    "    },\n",
    "    data={\n",
    "        'subdomain': '',\n",
    "        'antispam': '1',\n",
    "        'website': '',\n",
    "        'paste_title': title,\n",
    "        'input_text': context,\n",
    "        'timestamp': '1503c4774cf81847fce13669ff49bc90',\n",
    "        'paste_password': '',\n",
    "        'code': '0'\n",
    "    },\n",
    "    headers={\n",
    "        'referer': 'https://controlc.com'\n",
    "    }\n",
    ")"
   ]
  },
  {
   "cell_type": "code",
   "execution_count": 6,
   "metadata": {},
   "outputs": [
    {
     "name": "stdout",
     "output_type": "stream",
     "text": [
      "200\n"
     ]
    }
   ],
   "source": [
    "print(response.status_code)"
   ]
  },
  {
   "cell_type": "code",
   "execution_count": 7,
   "metadata": {},
   "outputs": [],
   "source": [
    "with open('D:/선배님과 함께하는 즐거운 코딩생활/test1.html', 'w', encoding='utf-8') as f:\n",
    "    f.write(response.text)"
   ]
  },
  {
   "cell_type": "code",
   "execution_count": 9,
   "metadata": {},
   "outputs": [],
   "source": [
    "from bs4 import BeautifulSoup\n",
    "\n",
    "with open('./4-1.html', 'r', encoding='utf-8') as f:\n",
    "    html = f.read()"
   ]
  },
  {
   "cell_type": "code",
   "execution_count": 10,
   "metadata": {},
   "outputs": [
    {
     "name": "stdout",
     "output_type": "stream",
     "text": [
      "<!DOCTYPE html>\n",
      "<html>\n",
      "\n",
      "<head>\n",
      "    <meta charset='utf-8'>\n",
      "    <title>4-1</title>\n",
      "\n",
      "    <style>\n",
      "        #title {\n",
      "            color: blue;\n",
      "        }\n",
      "    </style>\n",
      "</head>\n",
      "\n",
      "<body>\n",
      "    <h1 id=\"title\" class=\"title\">제목입니다</h1>\n",
      "    <h2 id=\"sub-title\" class=\"title\">부제목입니다</h1>\n",
      "\n",
      "    <div id=\"content-box\">\n",
      "        <p id=\"content\" class=\"content\">첫번째 내용입니다.</p>\n",
      "        <p>두번째 내용입니다.</p>\n",
      "\n",
      "        <div id=\"image-box\">\n",
      "            <img src=\"https://wie.re/cat\" alt=\"고양이\">\n",
      "        </div>\n",
      "    </div>\n",
      "</body>\n",
      "\n",
      "</html>\n"
     ]
    }
   ],
   "source": [
    "print(html)"
   ]
  },
  {
   "cell_type": "code",
   "execution_count": 13,
   "metadata": {},
   "outputs": [],
   "source": [
    "soup = BeautifulSoup(html, 'html.parser')"
   ]
  },
  {
   "cell_type": "code",
   "execution_count": 14,
   "metadata": {},
   "outputs": [
    {
     "name": "stdout",
     "output_type": "stream",
     "text": [
      "<h1 class=\"title\" id=\"title\">제목입니다</h1>\n"
     ]
    }
   ],
   "source": [
    "title = soup.select_one('#title')\n",
    "print(title)"
   ]
  },
  {
   "cell_type": "code",
   "execution_count": 18,
   "metadata": {},
   "outputs": [],
   "source": [
    "from bs4 import BeautifulSoup\n",
    "\n",
    "with open('./4-2.html', 'r', encoding='utf-8') as f:\n",
    "    html = f.read()"
   ]
  },
  {
   "cell_type": "code",
   "execution_count": 19,
   "metadata": {},
   "outputs": [],
   "source": [
    "soup = BeautifulSoup(html, 'html.parser')"
   ]
  },
  {
   "cell_type": "code",
   "execution_count": 20,
   "metadata": {},
   "outputs": [
    {
     "name": "stdout",
     "output_type": "stream",
     "text": [
      "[<li>고양이</li>, <li>강아지</li>, <li>앵무새</li>, <li>늑대</li>]\n"
     ]
    }
   ],
   "source": [
    "li_list = soup.select('#content-box > ul > li')\n",
    "print(li_list)"
   ]
  },
  {
   "cell_type": "code",
   "execution_count": 21,
   "metadata": {},
   "outputs": [
    {
     "name": "stdout",
     "output_type": "stream",
     "text": [
      "<li>고양이</li>\n",
      "<li>강아지</li>\n",
      "<li>앵무새</li>\n",
      "<li>늑대</li>\n"
     ]
    }
   ],
   "source": [
    "for li in li_list:\n",
    "    print(li)"
   ]
  },
  {
   "cell_type": "code",
   "execution_count": 22,
   "metadata": {},
   "outputs": [
    {
     "name": "stdout",
     "output_type": "stream",
     "text": [
      "고양이\n",
      "강아지\n",
      "앵무새\n",
      "늑대\n"
     ]
    }
   ],
   "source": [
    "for li in li_list:\n",
    "    print(li.get_text())"
   ]
  },
  {
   "cell_type": "code",
   "execution_count": 24,
   "metadata": {},
   "outputs": [],
   "source": [
    "\n",
    "from bs4 import BeautifulSoup\n",
    "\n",
    "with open('./test1.html', 'r', encoding='utf-8') as f:\n",
    "    html = f.read()\n",
    "\n",
    "soup = BeautifulSoup(html, 'html.parser')"
   ]
  },
  {
   "cell_type": "code",
   "execution_count": 27,
   "metadata": {},
   "outputs": [
    {
     "name": "stdout",
     "output_type": "stream",
     "text": [
      "https://controlc.com/2c6a2e5f\n"
     ]
    }
   ],
   "source": [
    "url = soup.select_one('.input-copy > form > input')\n",
    "print(url.attrs['value'])"
   ]
  },
  {
   "cell_type": "code",
   "execution_count": null,
   "metadata": {},
   "outputs": [],
   "source": [
    "from bs4 import BeautifulSoup\n",
    "\n",
    "with open('./test1.html', 'r', encoding='utf-8') as f:\n",
    "    html = f.read()"
   ]
  },
  {
   "cell_type": "code",
   "execution_count": 9,
   "metadata": {},
   "outputs": [],
   "source": [
    "import requests\n",
    "from bs4 import BeautifulSoup\n",
    "\n",
    "title = input('제목을 입력하세요: ')\n",
    "context = input('내용을 입력하세요: ')"
   ]
  },
  {
   "cell_type": "code",
   "execution_count": 10,
   "metadata": {},
   "outputs": [],
   "source": [
    "response = requests.post(\n",
    "    'https://controlc.com/index.php',\n",
    "    params = {\n",
    "        'act' : 'submit'\n",
    "    },\n",
    "    data={\n",
    "        'subdomain': '',\n",
    "        'antispam': '1',\n",
    "        'website': '',\n",
    "        'paste_title': title,\n",
    "        'input_text': context,\n",
    "        'timestamp': '1503c4774cf81847fce13669ff49bc90',\n",
    "        'paste_password': '',\n",
    "        'code': '0'\n",
    "    },\n",
    "    headers={\n",
    "        'origin': 'https://controlc.com',\n",
    "        'referer': 'https://controlc.com',\n",
    "        'user-agent': 'Mozilla/5.0 (Windows NT 10.0; Win64; x64) AppleWebKit/537.36 (KHTML, like Gecko) Chrome/103.0.5060.114 Safari/537.36'\n",
    "    }\n",
    ")"
   ]
  },
  {
   "cell_type": "code",
   "execution_count": 22,
   "metadata": {},
   "outputs": [],
   "source": [
    "soup = BeautifulSoup(response.text,'html.parser')"
   ]
  },
  {
   "cell_type": "code",
   "execution_count": 24,
   "metadata": {},
   "outputs": [
    {
     "data": {
      "text/plain": [
       "<input onchange=\"https://controlc.com/154c8c74'\" type=\"text\" value=\"https://controlc.com/154c8c74\"/>"
      ]
     },
     "execution_count": 24,
     "metadata": {},
     "output_type": "execute_result"
    }
   ],
   "source": [
    "link = soup.select_one('#wrapper > div.rounded10.whiteBG.pad20 > div.successfull > div.input-copy > form > input[type=text]')\n",
    "link"
   ]
  },
  {
   "cell_type": "code",
   "execution_count": 26,
   "metadata": {},
   "outputs": [
    {
     "data": {
      "text/plain": [
       "'https://controlc.com/154c8c74'"
      ]
     },
     "execution_count": 26,
     "metadata": {},
     "output_type": "execute_result"
    }
   ],
   "source": [
    "end_li = link['value']\n",
    "end_li"
   ]
  },
  {
   "cell_type": "code",
   "execution_count": 28,
   "metadata": {},
   "outputs": [],
   "source": [
    "soup1 = requests.get(end_li)"
   ]
  },
  {
   "cell_type": "code",
   "execution_count": 29,
   "metadata": {},
   "outputs": [],
   "source": [
    "html = BeautifulSoup(soup1.text, 'html.parser')"
   ]
  },
  {
   "cell_type": "code",
   "execution_count": 32,
   "metadata": {},
   "outputs": [],
   "source": [
    "final = html.select_one('#wrapper > #pastecontainer > div:nth-child(1) > div:nth-child(2)').text"
   ]
  },
  {
   "cell_type": "code",
   "execution_count": 33,
   "metadata": {},
   "outputs": [
    {
     "name": "stdout",
     "output_type": "stream",
     "text": [
      "title\n"
     ]
    }
   ],
   "source": [
    "print(final)"
   ]
  }
 ],
 "metadata": {
  "kernelspec": {
   "display_name": "Python 3.7.2 32-bit",
   "language": "python",
   "name": "python3"
  },
  "language_info": {
   "codemirror_mode": {
    "name": "ipython",
    "version": 3
   },
   "file_extension": ".py",
   "mimetype": "text/x-python",
   "name": "python",
   "nbconvert_exporter": "python",
   "pygments_lexer": "ipython3",
   "version": "3.7.2"
  },
  "orig_nbformat": 4,
  "vscode": {
   "interpreter": {
    "hash": "d0c5ed79cedddbaa16f8352bf3e5e542221587d0982b8f353612623ef853093e"
   }
  }
 },
 "nbformat": 4,
 "nbformat_minor": 2
}
