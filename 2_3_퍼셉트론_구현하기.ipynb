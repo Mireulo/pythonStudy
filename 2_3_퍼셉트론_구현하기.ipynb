{
  "nbformat": 4,
  "nbformat_minor": 0,
  "metadata": {
    "colab": {
      "name": "2.3 퍼셉트론 구현하기.ipynb",
      "provenance": [],
      "collapsed_sections": []
    },
    "kernelspec": {
      "name": "python3",
      "display_name": "Python 3"
    },
    "language_info": {
      "name": "python"
    }
  },
  "cells": [
    {
      "cell_type": "markdown",
      "source": [
        "# 2.3.1 간단한 구현부터\n",
        "x1과 x2를 인수로 받는 AND라는 함수 구현"
      ],
      "metadata": {
        "id": "0KkGjVgHhUTk"
      }
    },
    {
      "cell_type": "code",
      "execution_count": null,
      "metadata": {
        "id": "zSl6C9tChL7A"
      },
      "outputs": [],
      "source": [
        "def AND(x1, x2):\n",
        "  w1, w2, theta = 0.5, 0.5, 0.7\n",
        "  tmp = x1*w1 + x2*w2\n",
        "  if tmp <= theta:\n",
        "    return 0\n",
        "  elif tmp > theta:\n",
        "    return 1"
      ]
    },
    {
      "cell_type": "markdown",
      "source": [
        "매개변수 w1, w2, theta는 함수 안에서 초기화하고, 가중치를 곱한 입력의 총합이 임계값을 넘으면 1을 반환하고 그 외에는 0을 반환함"
      ],
      "metadata": {
        "id": "22NwWsRyhrmb"
      }
    },
    {
      "cell_type": "code",
      "source": [
        "print(AND(0, 0)) # 0을 출력\n",
        "print(AND(1, 0)) # 0을 출력\n",
        "print(AND(0, 1)) # 0을 출력\n",
        "print(AND(1, 1)) # 1을 출력"
      ],
      "metadata": {
        "colab": {
          "base_uri": "https://localhost:8080/"
        },
        "id": "gTgD9MZPhohi",
        "outputId": "ebb61aed-ab99-4d2a-be38-8f6ddff3ee0b"
      },
      "execution_count": null,
      "outputs": [
        {
          "output_type": "stream",
          "name": "stdout",
          "text": [
            "0\n",
            "0\n",
            "0\n",
            "1\n"
          ]
        }
      ]
    },
    {
      "cell_type": "code",
      "source": [
        "import numpy as np\n",
        "x = np.array([0,1])       # 입력\n",
        "w = np.array([0.5, 0.5])  # 가중치\n",
        "b = -0.7                  # 편향 (여기서 b는 위 theta와 같은 역할을 함)\n",
        "print(w*x)\n",
        "print(np.sum(w*x))\n",
        "print(np.sum(w*x) + b)    # 대략 -0.2(부동소수점 수에 의한 연산 오차)"
      ],
      "metadata": {
        "id": "Za4dlFIAh9Ic",
        "colab": {
          "base_uri": "https://localhost:8080/"
        },
        "outputId": "52d267c9-649b-4164-9785-b1a2c38abfcb"
      },
      "execution_count": null,
      "outputs": [
        {
          "output_type": "stream",
          "name": "stdout",
          "text": [
            "[0.  0.5]\n",
            "0.5\n",
            "-0.19999999999999996\n"
          ]
        }
      ]
    },
    {
      "cell_type": "markdown",
      "source": [
        "```가중치와 편향을 도입한 AND 게이트```"
      ],
      "metadata": {
        "id": "Orc1CQCVpctr"
      }
    },
    {
      "cell_type": "code",
      "source": [
        "def AND(x1, x2):\n",
        "  x = np.array([x1, x2])\n",
        "  w = np.array([0.5, 0.5])\n",
        "  b = -0.7\n",
        "  tmp = np.sum(w*x) + b\n",
        "  if tmp <= 0:\n",
        "    return 0\n",
        "  else:\n",
        "    return 1"
      ],
      "metadata": {
        "id": "9DjvvmTppi9r"
      },
      "execution_count": null,
      "outputs": []
    },
    {
      "cell_type": "markdown",
      "source": [
        "### NOTE\n",
        "편향이라는 용어는 '한쪽으로 치우쳐 균형을 깬다'라는 의미를 담고 있다. 실제로 위 식은 두 입력이 모두 0이어도 결과로 (0이 아닌) 편향 값을 출력함\n"
      ],
      "metadata": {
        "id": "5BREVrkdqQG0"
      }
    },
    {
      "cell_type": "markdown",
      "source": [
        "```NAND 게이트와 OR 게이트```"
      ],
      "metadata": {
        "id": "YI_n2XObsVZj"
      }
    },
    {
      "cell_type": "code",
      "source": [
        "def NAND(x1, x2):\n",
        "  x = np.array([x1, x2])\n",
        "  w = np.array([-0.5, -0.5])  # AND와는 가중치(w와 b)만 다르다!\n",
        "  b = 0.7\n",
        "  tmp = np.sum(w*x) + b\n",
        "  if tmp <= 0:\n",
        "    return 0\n",
        "  else:\n",
        "    return 1\n",
        "  \n",
        "def OR(x1, x2):\n",
        "  x = np.array([x1, x2])\n",
        "  w = np.array([0.5, 0.5])    # AND와는 가중치(w와 b)만 다르다 \n",
        "  b = -0.2\n",
        "  tmp = np.sum(w*x) + b\n",
        "  if tmp <= 0:\n",
        "    return 0\n",
        "  else:\n",
        "    return 1"
      ],
      "metadata": {
        "id": "7FT__xipsX0p"
      },
      "execution_count": null,
      "outputs": []
    },
    {
      "cell_type": "markdown",
      "source": [
        "```XOR 게이트 구현```"
      ],
      "metadata": {
        "id": "8I2noFgUz2cq"
      }
    },
    {
      "cell_type": "code",
      "source": [
        "def XOR(x1, x2):\n",
        "  s1 = NAND(x1, x2)\n",
        "  s2 = OR(x1, x2)\n",
        "  y = AND(s1, s2)\n",
        "  return y"
      ],
      "metadata": {
        "id": "9WAer3qu0SER"
      },
      "execution_count": null,
      "outputs": []
    },
    {
      "cell_type": "code",
      "source": [
        "print(XOR(0, 0))  # 0을 출력\n",
        "print(XOR(1, 0))  # 1을 출력\n",
        "print(XOR(0, 1))  # 1을 출력\n",
        "print(XOR(1, 1))  # 0을 출력"
      ],
      "metadata": {
        "colab": {
          "base_uri": "https://localhost:8080/"
        },
        "id": "XDJgbz_q0aQd",
        "outputId": "74dab3d8-19a2-45cb-f11c-b22903ce65e2"
      },
      "execution_count": null,
      "outputs": [
        {
          "output_type": "stream",
          "name": "stdout",
          "text": [
            "0\n",
            "1\n",
            "1\n",
            "0\n"
          ]
        }
      ]
    }
  ]
}