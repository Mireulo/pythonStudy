{
  "nbformat": 4,
  "nbformat_minor": 0,
  "metadata": {
    "colab": {
      "name": "3.2 활성화 함수.ipynb",
      "provenance": [],
      "collapsed_sections": []
    },
    "kernelspec": {
      "name": "python3",
      "display_name": "Python 3"
    },
    "language_info": {
      "name": "python"
    }
  },
  "cells": [
    {
      "cell_type": "markdown",
      "source": [
        "# 활성화 함수 개념\n",
        "\n",
        "예를 들어, 알로에 음료와 오렌지 음료를 분류하기 위해 그것들의 특징들을 데이터화 시켰다고 가정했을 때, 수많은 특징들로 이 둘을 정의하고 학습하여 분류하는 것을 만들려 하는데 데이터를 연산하다 보니 튀는 데이터가 있을 수 있고, 필요 없는 데이터가 존재할 수도 있는 것이다\n",
        "\n",
        "```활성화 함수```는 수많은 레이어로 이루어진 층에서 연산이 이루어질 때 어떻게 될지는 아무도 알 수 없기 때문에 활성화 함수라는 함수를 만들어서 ```데이터의 폭을 어느정도 정의할 수 있게 해주는 것이다```"
      ],
      "metadata": {
        "id": "nWmeBPwbIFFn"
      }
    },
    {
      "cell_type": "markdown",
      "source": [
        "# 계단 함수\n",
        "\n",
        "최초로 사용한 활성화 함수가 바로 계단 함수다.\n",
        "\n",
        "```0 혹은 1로만 이루어진 것이 계단함수이며, 0 이상이면 1, 0 미만이면 0인 활성화 함수다.```\n",
        "\n",
        "\n",
        "![계단 함수.png](data:image/png;base64,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)\n",
        "\n",
        "\n",
        "\n",
        "\n",
        "\n",
        "계단함수는 데이터가 극적으로 변하는 모양새이기 때문에 데이터의 손실이 일어날 가능성이 있어 딥러닝에서는 사용되지 않는다\n",
        "\n",
        "아래는 파이썬으로 구현한 계단함수의 개념이다"
      ],
      "metadata": {
        "id": "wudX9UCWJdDk"
      }
    },
    {
      "cell_type": "code",
      "execution_count": null,
      "metadata": {
        "id": "wAHCpnVcH8WE"
      },
      "outputs": [],
      "source": [
        "def step_function(x):\n",
        "  if x > 0:\n",
        "    return 1\n",
        "  else:\n",
        "    return 0"
      ]
    },
    {
      "cell_type": "code",
      "source": [
        "import numpy as np\n",
        "\n",
        "def step_function2(x):\n",
        "  y = x > 0\n",
        "  return y.astype(np.int)"
      ],
      "metadata": {
        "id": "yPE60DBDO7_9"
      },
      "execution_count": null,
      "outputs": []
    },
    {
      "cell_type": "code",
      "source": [
        "# x라는 넘파이 배열을 준ㅂ니하고 그 넘파이 배열에 부등호 연산을 수행한다\n",
        "x = np.array([-1.0, 1.0, 2.0])\n",
        "print(x)\n",
        "y = x > 0\n",
        "print(y)\n",
        "# 넘파이 배열에 부등호 연산을 수행하면 배열의 원소 각각에 부등호 연산을 수행한 bool 배열이 생성된다"
      ],
      "metadata": {
        "colab": {
          "base_uri": "https://localhost:8080/"
        },
        "id": "BPLYIy5YQIxI",
        "outputId": "b3665df0-bf43-4862-e61b-5adcf6c96e42"
      },
      "execution_count": null,
      "outputs": [
        {
          "output_type": "stream",
          "name": "stdout",
          "text": [
            "[-1.  1.  2.]\n",
            "[False  True  True]\n"
          ]
        }
      ]
    },
    {
      "cell_type": "code",
      "source": [
        "# y를 계단 함수처럼 0이나 1의 int형을 출력하는 함수로 만들어 본다\n",
        "y = y.astype(np.int)\n",
        "print(y)\n",
        "# 넘파이 배열의 자료형을 변환할 때는 astype() 메소드를 이용한다. 원하는 자료형을 인수로 지정하면 되는 것이다."
      ],
      "metadata": {
        "id": "Ly43o1o9RHqb"
      },
      "execution_count": null,
      "outputs": []
    },
    {
      "cell_type": "markdown",
      "source": [
        "> 계단 함수 그래프"
      ],
      "metadata": {
        "id": "TlGY_CxYSfcQ"
      }
    },
    {
      "cell_type": "code",
      "source": [
        "import numpy as np\n",
        "import matplotlib.pylab as plt\n",
        "\n",
        "def step_function3(x):\n",
        "  return np.array(x > 0, dtype=np.int64)\n",
        "\n",
        "x = np.arange(-5.0, 5.0, 0.1)\n",
        "y = step_function3(x)\n",
        "plt.plot(x, y)\n",
        "plt.ylim(-0.1, 1.1) # y축의 범위 지정\n",
        "plt.show()"
      ],
      "metadata": {
        "colab": {
          "base_uri": "https://localhost:8080/",
          "height": 265
        },
        "id": "9hXV3eqJSh1I",
        "outputId": "451e4c62-5b39-4722-dd34-48056ad1b05f"
      },
      "execution_count": null,
      "outputs": [
        {
          "output_type": "display_data",
          "data": {
            "text/plain": [
              "<Figure size 432x288 with 1 Axes>"
            ],
            "image/png": "[encoded data removed]"
          },
          "metadata": {
            "needs_background": "light"
          }
        }
      ]
    },
    {
      "cell_type": "markdown",
      "source": [
        "# 시그모이드 함수\n",
        "\n",
        "![시그모이드 함수.png](data:image/png;base64,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)\n",
        "\n",
        "시그모이드 함수는 계단함수의 단점인 미세한 값을 생성할 수 있게 나온 함수이다. 계단함수가 0과 1로만 된 함수라면 시그모이드는 0과 1사이의 실수로 이루어진 함수이기 때문에 0.237 등과 같이 정교한 수를 전달할 수 있다.\n",
        "\n",
        "> 단점\n",
        "\n",
        "딥러닝은 기울기를 통해 값을 찾아나가는 데 시그모이드 함수는 층이 많아지면 점점 값이 0에 수렴되는 문제가 발생하여 성능이 떨어짐"
      ],
      "metadata": {
        "id": "OVEDvDFBM_iC"
      }
    },
    {
      "cell_type": "code",
      "source": [
        "# 시그모이드 함수 구현\n",
        "def sigmoid(x):\n",
        "  return 1 / (1 + np.exp(-x)) # exp는 자연상수를 지수함수로 변환해준다"
      ],
      "metadata": {
        "id": "Mwtn2enTN_pa"
      },
      "execution_count": null,
      "outputs": []
    },
    {
      "cell_type": "code",
      "source": [
        "x = np.array([-1.0, 1.0, 2.0])\n",
        "sigmoid(x)"
      ],
      "metadata": {
        "colab": {
          "base_uri": "https://localhost:8080/"
        },
        "id": "JI31ZWpGW1qq",
        "outputId": "eddeecbd-9237-44ef-86ee-14e20f56a99d"
      },
      "execution_count": null,
      "outputs": [
        {
          "output_type": "execute_result",
          "data": {
            "text/plain": [
              "array([0.26894142, 0.73105858, 0.88079708])"
            ]
          },
          "metadata": {},
          "execution_count": 9
        }
      ]
    },
    {
      "cell_type": "markdown",
      "source": [
        "\n",
        "\n",
        "> `잠시 짚고 넘어가는 넘파이의 브로드캐스트 기능`\n",
        "\n",
        "\n",
        "\n",
        "브로드캐스트 기능이란 `넘파이 배열과 스칼라값의 연산을 넘파이 배열의 원소 각각과 스칼라값의 연산으로 바꿔 수행`하는 것이다"
      ],
      "metadata": {
        "id": "ERRBZYZRXEns"
      }
    },
    {
      "cell_type": "code",
      "source": [
        "# 브로드캐스트 복습 겸 구체적인 예\n",
        "t = np.array([1.0, 2.0, 3.0])\n",
        "print(1.0 + t)\n",
        "print(1.0 / t)"
      ],
      "metadata": {
        "colab": {
          "base_uri": "https://localhost:8080/"
        },
        "id": "h6IS0tinXWwV",
        "outputId": "65282964-48f6-4316-e6a7-20225cbfb233"
      },
      "execution_count": null,
      "outputs": [
        {
          "output_type": "stream",
          "name": "stdout",
          "text": [
            "[2. 3. 4.]\n",
            "[1.         0.5        0.33333333]\n"
          ]
        }
      ]
    },
    {
      "cell_type": "code",
      "source": [
        "x = np.arange(-5.0, 5.0, 0.1)\n",
        "y = sigmoid(x)\n",
        "plt.plot(x, y)\n",
        "plt.ylim(-0.1, 1.1)\n",
        "plt.show()"
      ],
      "metadata": {
        "colab": {
          "base_uri": "https://localhost:8080/",
          "height": 265
        },
        "id": "qQczurheaj0L",
        "outputId": "94120c46-88e4-4265-cf1e-6b7817f673b4"
      },
      "execution_count": null,
      "outputs": [
        {
          "output_type": "display_data",
          "data": {
            "text/plain": [
              "<Figure size 432x288 with 1 Axes>"
            ],
            "image/png": "[encoded data removed]"
          },
          "metadata": {
            "needs_background": "light"
          }
        }
      ]
    },
    {
      "cell_type": "markdown",
      "source": [
        "# 시그모이드 함수와 계단 함수 비교\n",
        "\n",
        "> 차이 1\n",
        "\n",
        "`매끄러움의 차이`. 시그모이드 함수는 부드러운 곡선이며 입력에 따라 출력이 연속적으로 변화한다. 한편, 계단 함수는 0을 경계로 갑자기 바뀌어버린다. 시그모이드의 매끈함이 신경망 학습에서 아주 중요한 역할을 하게 된다\n",
        "\n",
        "> 차이 2\n",
        "\n",
        "계단 함수가 0과 1 중 하나의 값만 돌려주는 반면 `시그모이드 함수는 실수를 돌려준다`는 점도 다르다. 다시 말해 퍼셉트론에서는 뉴런 사이에 0 혹은 1이 흘렀다면, 신경망에서는 연속적인 실수가 흐릅니다.\n",
        "\n",
        "계단 함수는 시시오도시처럼 물을 쏟아내거나 쏟아내지 않는(0 또는 1) 두 가지 움직임을 보여주며, 시그모이드 함수는 물레방아처럼 흘러온 물의 양에 비례해 흐르는 물의 양을 조절한다\n",
        "\n",
        "> 공통점 1\n",
        "\n",
        "큰 관점에서 보면 `둘은 같은 모양을 하고 있다.`\n",
        "\n",
        "둘 다 입력이 작을 때의 출력은 0에 가깝고(혹은 0이고), 입력이 커진면 출력이 1에 가까워지는(혹은 1이 되는) 구조인 것이다. 즉, 계단 함수와 시그모이드 함수는 입력이 중요하면 큰 값을 출력하고 입력이 중요하지 않으면 작은 값을 출력한다.\n",
        "\n",
        "> 공통점 2\n",
        "\n",
        "`입력이 아무리 작거나 커도 출력은 0에서 1사이다.`"
      ],
      "metadata": {
        "id": "SctuP7mgbr6B"
      }
    },
    {
      "cell_type": "markdown",
      "source": [
        "# 비선형 함수\n",
        "\n",
        "계단 함수와 시그모이드 함수는 둘다 비선형 함수이다. 시그모이드 함수는 곡선, 계단 함수는 계단처럼 구부러진 직선으로 나타나며, 동시에 비선형 함수로 분류된다.\n",
        "\n",
        "신경망에서는 활성화 함수로 `비선형 함수`를 사용해야 한다\n",
        "\n",
        "> 선형 함수는 왜 쓰면 안될까?\n",
        "\n",
        "선형 함수의 문제는 층을 아무리 깊게 해도 `'은닉층이 없는 네트워크'`로도 똑같은 기능을 할 수 있다는데 있다. `은닉층이 없다면 여러 층으로 구성하는 이점을 살릴 수 없다`\n"
      ],
      "metadata": {
        "id": "A90USqZ6uSU6"
      }
    },
    {
      "cell_type": "markdown",
      "source": [
        "# ReLU 함수\n",
        "\n",
        "최근에는 신경망 분야에서 ReLU(Rectified Linear Unit) 함수를 추로 이용한다.\n",
        "\n",
        "ReLU는 입력이 0을 넘으면 그 입력을 그대로 출력하고, 0 이하이면 0을 출력하는 함수이다.\n",
        "\n",
        "![ReLU함수 그랲.png](data:image/png;base64,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)\n",
        "\n",
        "수식으로는 \n",
        "\n",
        "![렐루 수식.png](data:image/png;base64,iVBORw0KGgoAAAANSUhEUgAAAJoAAAA7CAYAAACDv5NcAAAAAXNSR0IArs4c6QAAAARnQU1BAACxjwv8YQUAAAAJcEhZcwAADsMAAA7DAcdvqGQAAAoUSURBVHhe7ZwJbIxdF8cP5bXFTu1LkaolSCp2qvbaiYQoaqk1aNXWiNpJiJASKkQsidiDBEVtRdBai9qpEBQVe1uU+97/7X2Yt2btPM8z/T73lzQz585MO9P5zzn3nHvO5GMcUigMJr+8VCgMRQlNYQpKaApTUEJTmIISmsIUlNAUpqCEpjAFJTSFKSihKUxBCU1hCkpoClNQQvMgP378kNecJz09nT5//iwt98Ax98ePH6WVTVZWlrymL0pokpcvX9KUKVNo7ty5dO3aNblqDHiDt27dSjdv3pQrzpOWlkajR4+mmJgY+v79u1x1nTVr1tCsWbNoz549NGjQIHr79q1YT0pKom3btonruoLujb+djIwM5ufnx9auXStXjGX+/PksLi5OWq7z8+dPFhsbywYOHMi4UITtCgcOHGD16tVjXKjC3rRpE2vfvr24Dk6cOMGio6OlpQ9KaJwzZ86gVYrxkCRXjANvYnBwsLTcg4dexr0PGzx4MIuPj5erjunYsSOLiIiQFmOvX78Wr//q1atyhbEhQ4aw69evS8t9VOjkaGGjWLFi4jInL168EKFu1apVwkaYXbRoEX369EnYrrB06VIRqjS4NyIudOJeju7duyfC6r59+8SPI/Lnz09cZMQ9Et24cUOE1Fu3bslbrYN94enTp4l7NLlCVL58efGDdY2+ffvS8uXLpeU+SmhOUKpUKWrdurXYwz169Ih27twp3hgvLy95D+d49+4dHTt2jPz9/eUKUb58+ahp06b0+PFjWr16NR08eFBs9kuUKCHv4Zh//vmHJk6cSCtXrqS9e/dSaGiozUTjzZs34raSJUvKlWxgP336VFoknuPu3bspMzNTrriHEpoTFC1alGrXrk1169YVyQLe1LFjx4p1V0hJSRGXEK4GhIbf06NHD9q/fz8VKVKEhg4dSjy8yXs4BzzhkSNHhGCHDRtm80OA+wF4Q0sKFChA3759kxZR6dKl6evXr/TkyRO54h5KaC7QrFkzqlatmnhTcoNWlrD2ePxuhORWrVrJFec5efKkECfYvHkztWvXTly3BjwxRPbhwwe5ks379++pUqVK0iIqVKiQuNS2Fe6ihOYkEAH2agkJCXLFdapXry4ure3tDh8+TOXKlaPLly/LFcfwzTuFhISIvR32aQMGDBAe0h4QOYSILYAGamk8IfiPQLUPhfac3UUJzQkQQrZs2SKSgYsXL4p9S2JiorzVeeANq1SpIsKbJfBI9evXF+ESicHt27f/KKRa8vDhQxozZgwdOnRI1MPGjx9PBQsWlLc6Bo89evTorzAaFxdHvr6+1KZNG2GD58+fU8WKFaly5cpyxU34H/vr4RmeSO+twT/lrHv37iw1NVXUq1B/gp2Wlibv4Rpz5sxhPPMU17kXY3zvx2JiYoTNkwzm7e3NePgTtjXu3LnDwsLCxPNxh5kzZ7LIyEjGxcoCAwMZF6+8JRv+oWJRUVHSch8lNI49oUFQKOhq8L0N4x5OWq7DPRULCAgQNTvUwXhIlrdkF2JzK+DcALEmJyczngTIlWzS09NZUFCQeK16oYTGsSc0I0hKShIF06ysLLmSd8Bzmj17Nrt7965c0Qc1QMxBWaFfv35QmlwxnlevXtGzZ89EDS0vceXKFfLx8aEyZcrIFX1QyYCHqFChQp4TGUChVm+RAd2FhgwtZ1ZlC1vVaw2jWlYU5qOr0HDOhoLjjBkz5Ip1EKIctcngDDA6OlrUrhT/++gqtIYNG4ozs86dO8sV6yxcuFDUZ5o0aSJX/gTV68mTJ4sjH1StjQSixnmhwjh0FRoKmRcuXKBOnTrJlT9BcfL+/ft276OBImRYWJgoSBoJGh0DAgKkpTACXYV2/vx5cV6GA+hz585RVFQUpaamyluzcbVNBl4yOTmZHjx4IGw9QaiHd8XfxRmhwjh0LW+gNRiHsDhzwxHGihUrKDw8nEaOHCluR5sMMhrsu7QDXPz5jIwM4bWKFy9OXbt2FaESoVXrYBg+fDjVrFmT5s2bJ2xLkHw48kYNGjSgjRs3Sus3aMtB4tKhQwfq2bOnw3NCRe7RVWjNmzenPn36UFBQEDVq1OhXMx2uAxwCI33GgAXaYSzZtWsXRURECM+SM6yiDwyH2jt27JArv4FHxO+1BxoaLRv9LIFQe/XqJZIYa0JW6ASEpgfcWzG+gWcbNmwQdmJiIuPeSxyzaKDdGH8y55EHSElJEY//8uWLXPkNzuW4+KSlP9u3b2dly5aVlsIIdNujwXPxN0u0FgN0BKDtxLLBLrdtMmhZsdWuAo/UokULuz+jRo2S97ZO4cKFdeu7UlhHt9CJrlO86dyjCRt7LYQkhE2tzwkF2ho1aogjH8uqODJRCHL9+vWiXaZ///5UtWrVX+3MOB7q0qWL1ezT3dAJPHEE9dcBoekBxtUwxqVRq1YtFhISwvjGX65k42qbDA55fXx8dO0kyInZh+p/I4b9dyEM7m2k9RtX22TWrVvHuKeTljE4KzQ8dz07Lozo3sjMzJTXbIP/c84PrjbjaRS61tEsQdizVi5ACQOdqtyziVCFLk4N3B/7PI1Lly6JUgfGyDwJaoHBwcGitofM2FqpxBXwunM7qW4LTJhPmDBBPE97mD6hriHk5gHQdMeFJK0/gbfDsK0Z2PNo+PT7+/uLQV2AjNnX15fxfaWwc4O7k+oaaFDENoPvX1loaChLSEiwGkU0PDGhruExoeUl7Ant7NmzjHtaUb7R4IkP6927t7RcQ49JdbRzh4eHM55wiW0FQrozeGJCXcOw0Pn/AjJinFJYzmIig7Wc6nYFdyfVcUoyYsQIcYk5TmwrsB1xBDJ+T0yoayihOQDHZdamujGlxDfUcsU59JhUx1cxdOvWjaZPny6O+PDtQs7gqQl1DSU0B8DDWBadgTYAbDnZ7Qx6TKqjvojWKRS469SpIzwaiuTHjx8X3tEWeB3A2msxckJdQwnNATj8z+m5kAnjDbLMkJ1BG8rVY1Idv4PvE0WIXbJkCZ06dUrMZeL7N6zhqQl1DSU0BwQGBgoBoBFAA1Pebdu2/cM7OELvSXUNdLYsXryY4uPjqXHjxnL1v0CYOKExe0JdQwnNAfASCFFICgDCE6a8Me3tKnpNqtsCjaJoebKFRybUJWrcjoOvFkA/GjbL1rwUvoIA3x40depUkaHhDYUHyQ3YX+HsFXMVsbGxNGnSJJo2bRqNGzdOtErBXrZsmfhOjZwg7KHj2B7e3t7i8baIjIwU+0J4ZGSXOJtGo6oGEhIkDgsWLJArOgGh/e3gGMzLy8tuAZlvkMVUt7tfRYCaV24n1XE7pubt/ThzBGXmhLqGEpoEB/otW7YU3w1rrSdOT/LipDqeixET6hoqdFrAPYJoOUI26efnJ1eNIa9Nqhs1oa6hhKYwBZV1KkxBCU1hCkpoClNQQlOYghKawhSU0BQmQPQvdqeG2EfgNOkAAAAASUVORK5CYII=)\n",
        "\n",
        "이렇게 쓸 수 있다"
      ],
      "metadata": {
        "id": "wB53iUQzHskK"
      }
    },
    {
      "cell_type": "code",
      "source": [
        "# ReLU 함수 구현\n",
        "def relu(x):\n",
        "  return np.maximum(0, x)\n",
        "\n",
        "# 넘파이의 maximum 함수는 두 입력 중 큰 값을 선택해 반환하는 함수이다."
      ],
      "metadata": {
        "id": "kH0x-Ny5JFC6"
      },
      "execution_count": null,
      "outputs": []
    },
    {
      "cell_type": "markdown",
      "source": [
        "# 다차원 배열의 계산\n",
        "\n",
        "넘파이의 다차원 배열을 사용한 계산법을 숙달하면 신경망을 효율적으로 구현할 수 있다. \n",
        "\n",
        "다차원 배열도 그 기본은 '숫자의 집합'이다. `숫자가 한 줄로 늘어선 것`이나 `직사각형으로 늘어놓은 것`, `3차원으로 늘어놓은 것`이나 (더 일반화한) `N차원으로 나열하는 것`을 통틀어 다차원 배열이라고 한다."
      ],
      "metadata": {
        "id": "bXTobLJcJ5eb"
      }
    },
    {
      "cell_type": "code",
      "source": [
        "# 1차원 배열\n",
        "import numpy as np\n",
        "A = np.array([1,2,3,4])\n",
        "print(A)            # A 배열 출력\n",
        "print(np.ndim(A))   # A 배열 차원 수 출력\n",
        "print(A.shape)      # A 배열 형상 출력\n",
        "print(A.shape[0])   # A 배열의 열 수 출력(1 입력시 행 수 출력)"
      ],
      "metadata": {
        "colab": {
          "base_uri": "https://localhost:8080/"
        },
        "id": "05a7YO18Kxz6",
        "outputId": "b192a8de-09f0-448a-974e-031f8e241820"
      },
      "execution_count": null,
      "outputs": [
        {
          "output_type": "stream",
          "name": "stdout",
          "text": [
            "[1 2 3 4]\n",
            "1\n",
            "(4,)\n",
            "4\n"
          ]
        }
      ]
    },
    {
      "cell_type": "code",
      "source": [
        "# 2차원 배열\n",
        "B = np.array([[1,2], [3,4], [5,6]])\n",
        "print(B)\n",
        "print(np.ndim(B))\n",
        "print(B.shape)\n",
        "# 2차원 배열에서 예로 3x2 배열이 있다고 했을때, \n",
        "# 배열의 처음 차원에는 원소가 3개, 다음 차원에는 원소가 2개 있다는 뜻이다"
      ],
      "metadata": {
        "colab": {
          "base_uri": "https://localhost:8080/"
        },
        "id": "nHeEvqPSOmI7",
        "outputId": "9b3b46cf-891e-4af4-ee97-a5aad6a80f64"
      },
      "execution_count": null,
      "outputs": [
        {
          "output_type": "stream",
          "name": "stdout",
          "text": [
            "[[1 2]\n",
            " [3 4]\n",
            " [5 6]]\n",
            "2\n",
            "(3, 2)\n"
          ]
        }
      ]
    },
    {
      "cell_type": "markdown",
      "source": [
        "## 행렬의 곱 계산하기\n",
        "\n",
        "2x2 행렬의 경우, 곱은 아래의 그림처럼 계산한다\n",
        "\n",
        "![행렬곱꼐산.png](data:image/png;base64,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)\n",
        "\n",
        "그림에서처럼 행렬 곱은 `왼쪽 행렬의 행(가로)와 오른쪽 행렬의 열(세로)을 원소별로 곱하고 그 값들을 더해서 계산`한다. 그리고 그 계산 결과가 새로운 다차원 배열의 원소가 된다.\n",
        "\n",
        "예를 들어 A의 1행과 B의 1열을 곱한 값은 결과 행렬의 1행 1번째 원소가 되고, A의 2행과 B의 1열을 곱한 결과는 2행 1번째 원소가 된다."
      ],
      "metadata": {
        "id": "bjvoeAMJRWRo"
      }
    },
    {
      "cell_type": "code",
      "source": [
        "A = np.array([[1,2], [3,4]])\n",
        "print(A.shape)\n",
        "B = np.array([[5,6], [7,8]])\n",
        "print(B.shape)\n",
        "print(np.dot(A, B)) # np.dot()은 두 행렬의 곱을 계산해주는 함수다."
      ],
      "metadata": {
        "colab": {
          "base_uri": "https://localhost:8080/"
        },
        "id": "d6xMgA2jSQ6B",
        "outputId": "739b6142-90a3-4c41-c8ae-1e3f03712f91"
      },
      "execution_count": null,
      "outputs": [
        {
          "output_type": "stream",
          "name": "stdout",
          "text": [
            "(2, 2)\n",
            "(2, 2)\n",
            "[[19 22]\n",
            " [43 50]]\n"
          ]
        }
      ]
    }
  ]
}