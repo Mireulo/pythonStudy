{
 "cells": [
  {
   "cell_type": "code",
   "execution_count": 3,
   "metadata": {},
   "outputs": [],
   "source": [
    "import requests"
   ]
  },
  {
   "cell_type": "code",
   "execution_count": 1,
   "metadata": {},
   "outputs": [],
   "source": [
    "title = input('제목을 입력하세요: ')\n",
    "context = input('내용을 입력하세요: ')"
   ]
  },
  {
   "cell_type": "code",
   "execution_count": 4,
   "metadata": {},
   "outputs": [],
   "source": [
    "response = requests.post(\n",
    "    'https://controlc.com/index.php',\n",
    "    params = {\n",
    "        'act' : 'submit'\n",
    "    },\n",
    "    data={\n",
    "        'subdomain': '',\n",
    "        'antispam': '1',\n",
    "        'website': '',\n",
    "        'paste_title': title,\n",
    "        'input_text': context,\n",
    "        'timestamp': '1503c4774cf81847fce13669ff49bc90',\n",
    "        'paste_password': '',\n",
    "        'code': '0'\n",
    "    },\n",
    "    headers={\n",
    "        'origin': 'https://controlc.com',\n",
    "        'referer': 'https://controlc.com',\n",
    "        'user-agent': 'Mozilla/5.0 (Windows NT 10.0; Win64; x64) AppleWebKit/537.36 (KHTML, like Gecko) Chrome/103.0.5060.114 Safari/537.36'\n",
    "    }\n",
    ")"
   ]
  },
  {
   "cell_type": "code",
   "execution_count": 5,
   "metadata": {},
   "outputs": [
    {
     "name": "stdout",
     "output_type": "stream",
     "text": [
      "200\n"
     ]
    }
   ],
   "source": [
    "print(response.status_code)"
   ]
  },
  {
   "cell_type": "code",
   "execution_count": 7,
   "metadata": {},
   "outputs": [],
   "source": [
    "with open('D:/선배님과 함께하는 즐거운 코딩생활/test1.html', 'w', encoding='utf-8') as f:\n",
    "    f.write(response.text)"
   ]
  }
 ],
 "metadata": {
  "kernelspec": {
   "display_name": "Python 3.7.2 32-bit",
   "language": "python",
   "name": "python3"
  },
  "language_info": {
   "codemirror_mode": {
    "name": "ipython",
    "version": 3
   },
   "file_extension": ".py",
   "mimetype": "text/x-python",
   "name": "python",
   "nbconvert_exporter": "python",
   "pygments_lexer": "ipython3",
   "version": "3.7.2"
  },
  "orig_nbformat": 4,
  "vscode": {
   "interpreter": {
    "hash": "d0c5ed79cedddbaa16f8352bf3e5e542221587d0982b8f353612623ef853093e"
   }
  }
 },
 "nbformat": 4,
 "nbformat_minor": 2
}
