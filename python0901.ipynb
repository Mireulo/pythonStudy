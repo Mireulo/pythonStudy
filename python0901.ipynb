{
 "cells": [
  {
   "cell_type": "code",
   "execution_count": 10,
   "metadata": {},
   "outputs": [],
   "source": [
    "import requests"
   ]
  },
  {
   "cell_type": "markdown",
   "metadata": {},
   "source": [
    "- 프로토콜: https://\n",
    "- 도메인: search.naver.com/\n",
    "- 패스: search.naver\n",
    "- 파라미터: ?where=nexearch&sm=top_sug.pre&fbm=1&acr=1&acq=가나다&qdt=0&ie=utf8&query=가나다"
   ]
  },
  {
   "cell_type": "code",
   "execution_count": 16,
   "metadata": {},
   "outputs": [
    {
     "name": "stderr",
     "output_type": "stream",
     "text": [
      "C:\\Users\\user\\AppData\\Local\\Programs\\Python\\Python37-32\\lib\\site-packages\\urllib3\\connectionpool.py:1052: InsecureRequestWarning: Unverified HTTPS request is being made to host 'dict.naver.com'. Adding certificate verification is strongly advised. See: https://urllib3.readthedocs.io/en/1.26.x/advanced-usage.html#ssl-warnings\n",
      "  InsecureRequestWarning,\n"
     ]
    }
   ],
   "source": [
    "response = requests.get(\n",
    "    'https://dict.naver.com/search.dict',\n",
    "    params = {\n",
    "        'dicQuery': 'test',\n",
    "        'query' : 'test',\n",
    "        'target': 'dic',\n",
    "        'ie': 'utf8',\n",
    "        'query_utf': '',\n",
    "        'isOnlyViewEE': ''\n",
    "    }, verify=False\n",
    ")"
   ]
  },
  {
   "cell_type": "code",
   "execution_count": 17,
   "metadata": {},
   "outputs": [
    {
     "name": "stdout",
     "output_type": "stream",
     "text": [
      "200\n"
     ]
    }
   ],
   "source": [
    "print(response.status_code)"
   ]
  },
  {
   "cell_type": "code",
   "execution_count": null,
   "metadata": {},
   "outputs": [],
   "source": [
    "with open('D:/선배님과 함께하는 즐거운 코딩생활/temp.html', 'w', encoding='utf-8') as f:\n",
    "    f.write(response.text)"
   ]
  }
 ],
 "metadata": {
  "kernelspec": {
   "display_name": "Python 3.7.2 32-bit",
   "language": "python",
   "name": "python3"
  },
  "language_info": {
   "codemirror_mode": {
    "name": "ipython",
    "version": 3
   },
   "file_extension": ".py",
   "mimetype": "text/x-python",
   "name": "python",
   "nbconvert_exporter": "python",
   "pygments_lexer": "ipython3",
   "version": "3.7.2"
  },
  "orig_nbformat": 4,
  "vscode": {
   "interpreter": {
    "hash": "d0c5ed79cedddbaa16f8352bf3e5e542221587d0982b8f353612623ef853093e"
   }
  }
 },
 "nbformat": 4,
 "nbformat_minor": 2
}
