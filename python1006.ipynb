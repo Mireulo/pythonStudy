{
 "cells": [
  {
   "cell_type": "code",
   "execution_count": 23,
   "metadata": {},
   "outputs": [],
   "source": [
    "import requests\n",
    "import time"
   ]
  },
  {
   "cell_type": "code",
   "execution_count": 6,
   "metadata": {},
   "outputs": [],
   "source": [
    "datas=[]\n",
    "\n",
    "for page in range(1, 151):\n",
    "    response = requests.post(\n",
    "        'https://auction.realestate.daum.net/ajax/main.php',\n",
    "        params={\n",
    "            'addr1':'서울',\n",
    "            'result':'99',\n",
    "            'yongdo':'99',\n",
    "            'yongdo_details':'99',\n",
    "            'sort':'13D'\n",
    "        },\n",
    "        data={\n",
    "            'total':'1379',\n",
    "            'block':page',\n",
    "            'start':'',\n",
    "            'next':'',\n",
    "            'addr1':'서울',\n",
    "            'addr2':'',\n",
    "            'addr3': '',\n",
    "            'bubcd': '',\n",
    "            'kye': '',\n",
    "            'local_num': '',\n",
    "            'var_period': '',\n",
    "            'result': '99',\n",
    "            'var_kind': '',\n",
    "            'yuchalcnt': '',\n",
    "            'gamprice': '',\n",
    "            'lowprice': '',\n",
    "            'bdarea': '',\n",
    "            'daejiarea': '',\n",
    "            'ipchaltype': '',\n",
    "            'bdname': '',\n",
    "            'special': '',\n",
    "            'addshow': '',\n",
    "            'sort': '13D',\n",
    "            'subMenuIdx': '1'\n",
    "        },\n",
    "        headers={\n",
    "            'Origin':'https://auction.realestate.daum.net',\n",
    "            'referer':'https://auction.realestate.daum.net/v15/'\n",
    "        }\n",
    "    )\n",
    "    \n",
    "    soup = BeautifulSoup(response.text,'html.parser')\n",
    "    trs = soup.select('#frm_myreg > table > tbody > tr')\n",
    "    print('페이지','')\n",
    "\n",
    "    if len(trs) == 0:\n",
    "        print(f'{page}페이지가 비었습니다.')\n",
    "        break\n",
    "\n",
    "    for tr in trs:\n",
    "        data = {\n",
    "            '사건번호':tr.select_one('td:nth-child(1) a').get_text(),\n",
    "            '물건용도': tr.select_one('td:nth-child(2) > div:nth-child(2) > a > p:nth-child(1)').get_text(),\n",
    "            '소재지':tr.select_one('td:nth-child(2) > diventh-child(2) › a › p:nth-child(2)').get_text(),\n",
    "            '면적': tr.select_one(\"td:nth-child(2) > div:nth-child(2) > p:nth-child(2)\").get_text(),\n",
    "            '감정가':tr.select_one('td:nth-child(3)>div:nth-child(3)>p:nth-child(1)').get_text(),\n",
    "        }\n",
    "        datas.append(data)\n",
    "    time.sleep(5)"
   ]
  },
  {
   "cell_type": "code",
   "execution_count": null,
   "metadata": {},
   "outputs": [],
   "source": [
    "with open('./code_1.json','w',encoding='utf-8') as f:\n",
    "    f.write(json.dumps(datas, ensure_ascii=False))"
   ]
  },
  {
   "cell_type": "code",
   "execution_count": 7,
   "metadata": {},
   "outputs": [],
   "source": [
    "from bs4 import BeautifulSoup"
   ]
  },
  {
   "cell_type": "code",
   "execution_count": 8,
   "metadata": {},
   "outputs": [],
   "source": [
    "soup = BeautifulSoup(response.text,'html.parser')\n",
    "trs = soup.select('#frm_myreg > table > tbody > tr')"
   ]
  },
  {
   "cell_type": "code",
   "execution_count": 9,
   "metadata": {},
   "outputs": [],
   "source": [
    "datas=[]"
   ]
  },
  {
   "cell_type": "code",
   "execution_count": 10,
   "metadata": {},
   "outputs": [],
   "source": [
    "for tr in trs:\n",
    "    data = {\n",
    "        '사건번호':tr.select_one('td:nth-child(1) a').get_text(),\n",
    "        '물건용도': tr.select_one('td:nth-child(2) > div:nth-child(2) > a > p:nth-child(1)').get_text(),\n",
    "        '소재지':tr.select_one('td:nth-child(2) > diventh-child(2) › a › p:nth-child(2)').get_text(),\n",
    "        '면적': tr.select_one(\"td:nth-child(2) > div:nth-child(2) > p:nth-child(2)\").get_text(),\n",
    "        '감정가':tr.select_one('td:nth-child(3)>div:nth-child(3)>p:nth-child(1)').get_text(),\n",
    "    }\n",
    "    datas.append(data)"
   ]
  },
  {
   "cell_type": "code",
   "execution_count": 18,
   "metadata": {},
   "outputs": [],
   "source": [
    "from pprint import pprint\n",
    "import json"
   ]
  },
  {
   "cell_type": "code",
   "execution_count": null,
   "metadata": {},
   "outputs": [],
   "source": [
    "with open('./code_1.json','w',encoding='utf-8') as f:\n",
    "    f.write(json.dumps(datas, ensure_ascii=False))"
   ]
  }
 ],
 "metadata": {
  "interpreter": {
   "hash": "d9dc88e4aa9c05378aa5e64bcd0e11e2b1e5984d8afad505fdf0864ca3363bab"
  },
  "kernelspec": {
   "display_name": "Python 3.7.2 32-bit",
   "language": "python",
   "name": "python3"
  },
  "language_info": {
   "codemirror_mode": {
    "name": "ipython",
    "version": 3
   },
   "file_extension": ".py",
   "mimetype": "text/x-python",
   "name": "python",
   "nbconvert_exporter": "python",
   "pygments_lexer": "ipython3",
   "version": "3.7.2"
  },
  "orig_nbformat": 4
 },
 "nbformat": 4,
 "nbformat_minor": 2
}
