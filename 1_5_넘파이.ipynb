{
  "nbformat": 4,
  "nbformat_minor": 0,
  "metadata": {
    "colab": {
      "name": "1.5 넘파이.ipynb",
      "provenance": [],
      "collapsed_sections": []
    },
    "kernelspec": {
      "name": "python3",
      "display_name": "Python 3"
    },
    "language_info": {
      "name": "python"
    }
  },
  "cells": [
    {
      "cell_type": "markdown",
      "source": [
        "# 넘파이\n",
        "넘파이의 배열 클래스인 numpy.array에는 편리한 메소드가 많이 준비되어있어 딥러닝을 구현할 때 이 메소드들을 이용한다."
      ],
      "metadata": {
        "id": "BxTIy5_0XiqT"
      }
    },
    {
      "cell_type": "code",
      "execution_count": null,
      "metadata": {
        "id": "nh_qyeI2Xey1"
      },
      "outputs": [],
      "source": [
        "# 넘파이 가져오기\n",
        "import numpy as np"
      ]
    },
    {
      "cell_type": "markdown",
      "source": [
        "```import numpy as np```는 numpy를 np라는 이름으로 가져오라는 뜻이다.\n",
        "\n"
      ],
      "metadata": {
        "id": "pytESkAVaDvr"
      }
    },
    {
      "cell_type": "markdown",
      "source": [
        "**넘파이 배열**을 만들 때는 np.array() 메소드를 이용한다. np.array()는 파이썬의 리스트를 인수로 받아 넘파이 라이브러리가 제공하는 특수한 형태의 배열(numpy.ndarray)을 반환합니다."
      ],
      "metadata": {
        "id": "zJK35AOja7pq"
      }
    },
    {
      "cell_type": "code",
      "source": [
        "x = np.array([1.0, 2.0, 3.0])\n",
        "print(x)\n",
        "print(type(x))"
      ],
      "metadata": {
        "colab": {
          "base_uri": "https://localhost:8080/"
        },
        "id": "F3ZakI0ub01q",
        "outputId": "917be87d-e266-44ff-8748-64518909c25f"
      },
      "execution_count": null,
      "outputs": [
        {
          "output_type": "stream",
          "name": "stdout",
          "text": [
            "[1. 2. 3.]\n",
            "<class 'numpy.ndarray'>\n"
          ]
        }
      ]
    },
    {
      "cell_type": "code",
      "source": [
        "x = np.array([1.0, 2.0, 3.0])\n",
        "y = np.array([2.0, 4.0, 6.0])\n",
        "print(x+y)  # 원소별 덧셈\n",
        "print(x-y)\n",
        "print(x*y)  # 원소별 곱셈\n",
        "print(x/y)"
      ],
      "metadata": {
        "colab": {
          "base_uri": "https://localhost:8080/"
        },
        "id": "x9qqN1iEdDMy",
        "outputId": "6c81e635-8166-42c2-999c-afb11cffbf7d"
      },
      "execution_count": null,
      "outputs": [
        {
          "output_type": "stream",
          "name": "stdout",
          "text": [
            "[3. 6. 9.]\n",
            "[-1. -2. -3.]\n",
            "[ 2.  8. 18.]\n",
            "[0.5 0.5 0.5]\n"
          ]
        }
      ]
    },
    {
      "cell_type": "markdown",
      "source": [
        "주의할 점\n",
        "\n",
        "*   x와 y의 원소 수가 같다\n",
        "*   x와 y의 원소 수가 다를 경우 오류 발생\n",
        "*   x와 y의 원소 수가 같다면 산술 연산은 각 원소에 대해서   행해진다.\n",
        "---\n",
        "\n",
        "'원소별'이라는 말은 영어로 element-wise라고 한다.\n",
        "\n",
        "---\n",
        "'원소별 곱셈'은 element-wise product라고 한다\n",
        "\n",
        "---\n",
        "넘파이 배열은 원소별 계산뿐만 아니라 넘파이 배열과 수치 하나(스칼라값)의 조합으로 된 산술 연산도 수행할 수 있다. 이 경우 스칼라값과의 계산이 넘파이 배열의 원소별로 한 번씩 수행된다. 이 기능을 **`브로드캐스트`**라고 한다\n",
        "\n",
        "\n",
        "\n",
        "\n",
        "\n"
      ],
      "metadata": {
        "id": "aU2KmJ2hdqSZ"
      }
    },
    {
      "cell_type": "code",
      "source": [
        "x = np.array([1.0, 2.0, 3.0])\n",
        "x / 2.0"
      ],
      "metadata": {
        "colab": {
          "base_uri": "https://localhost:8080/"
        },
        "id": "dYO0tgBzgsFA",
        "outputId": "2f8acde6-d321-42c4-e86c-1d13a2825a53"
      },
      "execution_count": null,
      "outputs": [
        {
          "output_type": "execute_result",
          "data": {
            "text/plain": [
              "array([0.5, 1. , 1.5])"
            ]
          },
          "metadata": {},
          "execution_count": 5
        }
      ]
    },
    {
      "cell_type": "markdown",
      "source": [
        "# 넘파이 N차원 배열\n",
        "넘파이는 1차원 배열뿐만 아니라 다차원 배열도 작성할 수 있다. 예를 들어 2차원은 다음처럼 작성함\n"
      ],
      "metadata": {
        "id": "qNrqRr8zg1CM"
      }
    },
    {
      "cell_type": "code",
      "source": [
        "A = np.array([[1,2], [3,4]])\n",
        "print(A)\n",
        "print(A.shape)\n",
        "print(A.dtype)"
      ],
      "metadata": {
        "colab": {
          "base_uri": "https://localhost:8080/"
        },
        "id": "lSbdu9DTigaX",
        "outputId": "ee961a87-de76-4ba2-8ab8-37b5c0dee3e7"
      },
      "execution_count": null,
      "outputs": [
        {
          "output_type": "stream",
          "name": "stdout",
          "text": [
            "[[1 2]\n",
            " [3 4]]\n",
            "(2, 2)\n",
            "int64\n"
          ]
        }
      ]
    },
    {
      "cell_type": "markdown",
      "source": [
        "2x2의 A라는 행렬 작성. \n",
        "\n",
        "*   행렬의 형상은 shape\n",
        "*   행렬에 담긴 원소의 자료형 dtype\n",
        "\n",
        "이어서 행렬 산술 연산\n",
        "\n",
        "\n"
      ],
      "metadata": {
        "id": "09iLNalmjclu"
      }
    },
    {
      "cell_type": "code",
      "source": [
        "B = np.array([[3,0],[0,6]])\n",
        "print(A+B)\n",
        "print(A*B)"
      ],
      "metadata": {
        "colab": {
          "base_uri": "https://localhost:8080/"
        },
        "id": "C-xtScrxktZV",
        "outputId": "6901fc12-5091-4262-f7e8-f925ba5aeb89"
      },
      "execution_count": null,
      "outputs": [
        {
          "output_type": "stream",
          "name": "stdout",
          "text": [
            "[[ 4  2]\n",
            " [ 3 10]]\n",
            "[[ 3  0]\n",
            " [ 0 24]]\n"
          ]
        }
      ]
    },
    {
      "cell_type": "markdown",
      "source": [
        "형상이 같은 행렬끼리면 행렬의 산술 연산도 대응하는 원소별로 계산된다.행렬과 스칼라값의 산술 연산도 가능하다. 이때도 배열과 마찬가지로 브로드캐스트 기능이 작동한다"
      ],
      "metadata": {
        "id": "cjrI3Mx9lKPO"
      }
    },
    {
      "cell_type": "code",
      "source": [
        "print(A)\n",
        "print(A*10)"
      ],
      "metadata": {
        "colab": {
          "base_uri": "https://localhost:8080/"
        },
        "id": "esKMTe5vmDqV",
        "outputId": "89c10de0-a047-49f5-dc43-073d1bfd4f88"
      },
      "execution_count": null,
      "outputs": [
        {
          "output_type": "stream",
          "name": "stdout",
          "text": [
            "[[1 2]\n",
            " [3 4]]\n",
            "[[10 20]\n",
            " [30 40]]\n"
          ]
        }
      ]
    },
    {
      "cell_type": "markdown",
      "source": [
        "# NOTE\n",
        "넘파이 배열은 N차원 배열을 작성할 수 있다. 1차원 배열, 2차원 배열, 3차원 배열처럼 원하는 차수의 배열을 만들 수 있다는 뜻이다. 수학에서는 1차원 배열은 `벡터`, 2차원 배열은 `행렬(matrix)`이라고 부른다. 또 벡터와 행렬을 일반화한 것을 `텐서`라 한다."
      ],
      "metadata": {
        "id": "G74k0K0jmKw1"
      }
    },
    {
      "cell_type": "markdown",
      "source": [
        "# 브로드캐스트\n"
      ],
      "metadata": {
        "id": "xaOU3imvno7t"
      }
    },
    {
      "cell_type": "code",
      "source": [
        "A = np.array([[1,2],[3,4]])\n",
        "B = np.array([10,20])\n",
        "A*B"
      ],
      "metadata": {
        "colab": {
          "base_uri": "https://localhost:8080/"
        },
        "id": "kX43yq5m32l8",
        "outputId": "33741adc-2228-41b6-e763-0c630c84f2de"
      },
      "execution_count": null,
      "outputs": [
        {
          "output_type": "execute_result",
          "data": {
            "text/plain": [
              "array([[10, 40],\n",
              "       [30, 80]])"
            ]
          },
          "metadata": {},
          "execution_count": 9
        }
      ]
    },
    {
      "cell_type": "markdown",
      "source": [
        "# 원소 접근"
      ],
      "metadata": {
        "id": "GwEM6-9r4MLc"
      }
    },
    {
      "cell_type": "code",
      "source": [
        "X = np.array([[51, 55], [14, 19], [0,4]])\n",
        "print(X)\n",
        "print(X[0])     # 0행\n",
        "print(X[0][1])  # (0,1) 위치의 원소"
      ],
      "metadata": {
        "colab": {
          "base_uri": "https://localhost:8080/"
        },
        "id": "yHtg0zq84QXz",
        "outputId": "5e16069a-cb4d-4e59-b863-f4efc4c44c6a"
      },
      "execution_count": null,
      "outputs": [
        {
          "output_type": "stream",
          "name": "stdout",
          "text": [
            "[[51 55]\n",
            " [14 19]\n",
            " [ 0  4]]\n",
            "[51 55]\n",
            "55\n"
          ]
        }
      ]
    },
    {
      "cell_type": "code",
      "source": [
        "for row in X:\n",
        "  print(row)"
      ],
      "metadata": {
        "colab": {
          "base_uri": "https://localhost:8080/"
        },
        "id": "er7nFuww4zOS",
        "outputId": "dd250765-d4d9-47de-9716-da498854b539"
      },
      "execution_count": null,
      "outputs": [
        {
          "output_type": "stream",
          "name": "stdout",
          "text": [
            "[51 55]\n",
            "[14 19]\n",
            "[0 4]\n"
          ]
        }
      ]
    },
    {
      "cell_type": "code",
      "source": [
        "X = X.flatten()       # X를 1차원 배열로 변환(평탄화)\n",
        "print(X)\n",
        "X[np.array([0,2,4])]  # 인덱스가 0, 2, 4인 원소 얻기"
      ],
      "metadata": {
        "colab": {
          "base_uri": "https://localhost:8080/"
        },
        "id": "Kh9x3BXL5CZr",
        "outputId": "939673a6-d750-485c-aaca-3ad1785042a7"
      },
      "execution_count": null,
      "outputs": [
        {
          "output_type": "stream",
          "name": "stdout",
          "text": [
            "[51 55 14 19  0  4]\n"
          ]
        },
        {
          "output_type": "execute_result",
          "data": {
            "text/plain": [
              "array([51, 14,  0])"
            ]
          },
          "metadata": {},
          "execution_count": 12
        }
      ]
    },
    {
      "cell_type": "markdown",
      "source": [
        "이 기법을 응용하면 특정 조건을 만족하는 원소만 얻을 수 있다. 예컨대 다음과 같이 ```배열 X에서 15 이상인 값만``` 구할 수 있다"
      ],
      "metadata": {
        "id": "xiUtvss56Mps"
      }
    },
    {
      "cell_type": "code",
      "source": [
        "print(X>15)\n",
        "print(X[X>15])"
      ],
      "metadata": {
        "colab": {
          "base_uri": "https://localhost:8080/"
        },
        "id": "ew3zLkBN5hNx",
        "outputId": "554a1939-84e3-4a4d-b68c-6fce4f5955b8"
      },
      "execution_count": null,
      "outputs": [
        {
          "output_type": "stream",
          "name": "stdout",
          "text": [
            "[ True  True False  True False False]\n",
            "[51 55 19]\n"
          ]
        }
      ]
    },
    {
      "cell_type": "markdown",
      "source": [
        "넘파이 배열에 부등호 연산자를 사용한 결과는 ```bool 배열```\n",
        "이다. 여기에서는 이 bool 배열을 사용해 배열 X에서 True에 해당하는 원소, 즉 값이 15보다 큰 원소만 꺼낸다\n"
      ],
      "metadata": {
        "id": "GcASHkX67Yir"
      }
    },
    {
      "cell_type": "markdown",
      "source": [
        "# NOTE\n",
        "\n",
        "\n",
        "*   파이썬 같은 동적 언어는 C나 C++같은 정적 언어(컴파일 언어)보다 처리 속도가 늦다\n",
        "*   무거운 작업을 할때는 C/C++로 작성한 프로그램을 쓰는 편이 좋다\n",
        "*   파이썬에서 빠른 성능이 요구될 경우 해당 부분을 C/C++로 구현한다.\n",
        "*   이럴 때 파이썬은 C/C++로 쓰인 프로그램을 호출해주는 '중개자'역할을 한다.\n",
        "*   넘파이도 주된 처리는 C/C++로 구현함. 그래서 성능을 해치지 않으면서 파이썬의 편리한 문법을 사용할 수 있다\n",
        "\n"
      ],
      "metadata": {
        "id": "3DsiXlrc-jHp"
      }
    }
  ]
}